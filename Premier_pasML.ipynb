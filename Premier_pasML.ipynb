{
 "cells": [
  {
   "cell_type": "code",
   "execution_count": null,
   "id": "fbb3bf00-1621-4718-a115-648f544ab1eb",
   "metadata": {},
   "outputs": [],
   "source": [
    "#Voici le notebook de mon premier projet ML je ne sais pas quoi écrire"
   ]
  },
  {
   "cell_type": "code",
   "execution_count": null,
   "id": "8ae8434d-0ab9-41e3-a4b2-776b06bb3b18",
   "metadata": {},
   "outputs": [],
   "source": [
    "print('Hello World')"
   ]
  }
 ],
 "metadata": {
  "kernelspec": {
   "display_name": "Python 3 (ipykernel)",
   "language": "python",
   "name": "python3"
  },
  "language_info": {
   "codemirror_mode": {
    "name": "ipython",
    "version": 3
   },
   "file_extension": ".py",
   "mimetype": "text/x-python",
   "name": "python",
   "nbconvert_exporter": "python",
   "pygments_lexer": "ipython3",
   "version": "3.13.8"
  }
 },
 "nbformat": 4,
 "nbformat_minor": 5
}
